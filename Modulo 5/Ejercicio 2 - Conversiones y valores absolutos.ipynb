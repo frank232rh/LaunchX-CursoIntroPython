{
 "cells": [
  {
   "cell_type": "markdown",
   "metadata": {},
   "source": [
    "Convierte cadenas en numeros y usa valores absolutos"
   ]
  },
  {
   "cell_type": "code",
   "execution_count": 4,
   "metadata": {},
   "outputs": [
    {
     "name": "stdout",
     "output_type": "stream",
     "text": [
      "Resultado en KM:  50300000\n",
      "Resultado en Millas:  31236300.0\n"
     ]
    }
   ],
   "source": [
    "distPrimerPlaneta = input(\"¿Cual es la distancia en KM del primer planeta?\")\n",
    "distSegundPlaneta = input(\"¿Cual es la distancia en KM del segundo planeta?\")\n",
    "\n",
    "valPrimerPLaneta = int(distPrimerPlaneta)\n",
    "valSegundPlaneta = int(distSegundPlaneta)\n",
    "\n",
    "resultKm = abs(valSegundPlaneta - valPrimerPLaneta)\n",
    "resultMl = abs((resultKm) * 0.621)\n",
    "\n",
    "print(\"Resultado en KM: \", resultKm)\n",
    "print(\"Resultado en Millas: \", resultMl)"
   ]
  }
 ],
 "metadata": {
  "interpreter": {
   "hash": "50c2a5a1a885c24c6de32af214cf0b81f5185693406bb64d658a21602c831da5"
  },
  "kernelspec": {
   "display_name": "Python 3.10.2 64-bit",
   "language": "python",
   "name": "python3"
  },
  "language_info": {
   "codemirror_mode": {
    "name": "ipython",
    "version": 3
   },
   "file_extension": ".py",
   "mimetype": "text/x-python",
   "name": "python",
   "nbconvert_exporter": "python",
   "pygments_lexer": "ipython3",
   "version": "3.10.2"
  },
  "orig_nbformat": 4
 },
 "nbformat": 4,
 "nbformat_minor": 2
}
