{
 "cells": [
  {
   "cell_type": "markdown",
   "metadata": {},
   "source": [
    "Operadores aritmeticos"
   ]
  },
  {
   "cell_type": "code",
   "execution_count": 8,
   "metadata": {},
   "outputs": [
    {
     "name": "stdout",
     "output_type": "stream",
     "text": [
      "La distancia entre ambos es:  628949330 km\n",
      "La distancia entre ambos es:  390577533.93 millas\n"
     ]
    }
   ],
   "source": [
    "distTierra = 149597870 #km\n",
    "distJupiter = 778547200 #km\n",
    "\n",
    "distEntrePlanetas = int(distJupiter - distTierra)\n",
    "print(\"La distancia entre ambos es: \", distEntrePlanetas, \"km\")\n",
    "print(\"La distancia entre ambos es: \", distEntrePlanetas * 0.621, \"millas\")"
   ]
  }
 ],
 "metadata": {
  "interpreter": {
   "hash": "50c2a5a1a885c24c6de32af214cf0b81f5185693406bb64d658a21602c831da5"
  },
  "kernelspec": {
   "display_name": "Python 3.10.2 64-bit",
   "language": "python",
   "name": "python3"
  },
  "language_info": {
   "codemirror_mode": {
    "name": "ipython",
    "version": 3
   },
   "file_extension": ".py",
   "mimetype": "text/x-python",
   "name": "python",
   "nbconvert_exporter": "python",
   "pygments_lexer": "ipython3",
   "version": "3.10.2"
  },
  "orig_nbformat": 4
 },
 "nbformat": 4,
 "nbformat_minor": 2
}
