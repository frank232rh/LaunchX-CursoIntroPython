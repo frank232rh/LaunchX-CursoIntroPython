{
 "cells": [
  {
   "cell_type": "markdown",
   "metadata": {},
   "source": [
    "Mostrar Fecha"
   ]
  },
  {
   "cell_type": "code",
   "execution_count": 1,
   "metadata": {},
   "outputs": [
    {
     "name": "stdout",
     "output_type": "stream",
     "text": [
      "today's date  es:  2022-02-19\n",
      "today's date  es:  2022-02-19\n"
     ]
    }
   ],
   "source": [
    "from datetime import date\n",
    "\n",
    "\n",
    "today = date.today()\n",
    "print(\"today's date  es: \",today)\n",
    "\n",
    " #sacado de las soluciones.\n",
    "print(\"today's date  es: \",str(date.today()))\n"
   ]
  }
 ],
 "metadata": {
  "interpreter": {
   "hash": "50c2a5a1a885c24c6de32af214cf0b81f5185693406bb64d658a21602c831da5"
  },
  "kernelspec": {
   "display_name": "Python 3.10.2 64-bit",
   "language": "python",
   "name": "python3"
  },
  "language_info": {
   "codemirror_mode": {
    "name": "ipython",
    "version": 3
   },
   "file_extension": ".py",
   "mimetype": "text/x-python",
   "name": "python",
   "nbconvert_exporter": "python",
   "pygments_lexer": "ipython3",
   "version": "3.10.2"
  },
  "orig_nbformat": 4
 },
 "nbformat": 4,
 "nbformat_minor": 2
}
