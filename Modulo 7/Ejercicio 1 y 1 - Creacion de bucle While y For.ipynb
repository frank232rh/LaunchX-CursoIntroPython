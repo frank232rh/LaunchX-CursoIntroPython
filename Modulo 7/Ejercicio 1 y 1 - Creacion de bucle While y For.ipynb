{
 "cells": [
  {
   "cell_type": "markdown",
   "metadata": {},
   "source": [
    "Creación de un bucle While"
   ]
  },
  {
   "cell_type": "code",
   "execution_count": 1,
   "metadata": {},
   "outputs": [
    {
     "name": "stdout",
     "output_type": "stream",
     "text": [
      "mercurio\n",
      "venus\n",
      "tierr\n",
      "marte\n",
      "jupiter\n",
      "saturno\n"
     ]
    }
   ],
   "source": [
    "new_Planet = ''\n",
    "planets = []\n",
    "\n",
    "while new_Planet.lower() != 'done':\n",
    "    if new_Planet:\n",
    "        planets.append(new_Planet)\n",
    "    new_Planet = input(\"Ingrese un nuevo planeta: \")\n",
    "\n",
    "for planet in planets:\n",
    "    print(planet)"
   ]
  }
 ],
 "metadata": {
  "interpreter": {
   "hash": "50c2a5a1a885c24c6de32af214cf0b81f5185693406bb64d658a21602c831da5"
  },
  "kernelspec": {
   "display_name": "Python 3.10.2 64-bit",
   "language": "python",
   "name": "python3"
  },
  "language_info": {
   "codemirror_mode": {
    "name": "ipython",
    "version": 3
   },
   "file_extension": ".py",
   "mimetype": "text/x-python",
   "name": "python",
   "nbconvert_exporter": "python",
   "pygments_lexer": "ipython3",
   "version": "3.10.2"
  },
  "orig_nbformat": 4
 },
 "nbformat": 4,
 "nbformat_minor": 2
}
