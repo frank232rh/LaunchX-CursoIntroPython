{
 "cells": [
  {
   "cell_type": "markdown",
   "metadata": {},
   "source": [
    "Ejercicio declaraciones if, else elif"
   ]
  },
  {
   "cell_type": "code",
   "execution_count": 11,
   "metadata": {},
   "outputs": [
    {
     "name": "stdout",
     "output_type": "stream",
     "text": [
      "No hay peligro de asteroide.\n",
      "¡Un asteroide ha entrado a la atmosfera, vean el rayo de luz que deja!\n",
      "¡No hay peligro de asteroide, sigue con tu dia!\n",
      "Look up! ¡Hay una luz magica en el cielo!\n"
     ]
    }
   ],
   "source": [
    "# --------------------------------------------------------------------------------------------------\n",
    "# Velocidad del asteroide.\n",
    "velocidadAsteroide = 25\n",
    "\n",
    "if  velocidadAsteroide > 25:\n",
    "    print(\"¡Peligro!¡El asteroide se acerca a una velocidad de\", velocidadAsteroide, \"km/s!\")\n",
    "else:\n",
    "    print(\"No hay peligro de asteroide.\")\n",
    "# --------------------------------------------------------------------------------------------------\n",
    "# --------------------------------------------------------------------------------------------------\n",
    "# Velocidad del asteroide en la atmosfera.\n",
    "velocidadEnAtmosfera = 20\n",
    "if  velocidadEnAtmosfera > 20:\n",
    "    print(\"¡Hay un asteroide en la atmosfera, busquen un rayo de luz!\")\n",
    "elif velocidadEnAtmosfera == 20:\n",
    "    print(\"¡Un asteroide ha entrado a la atmosfera, vean el rayo de luz que deja!\")\n",
    "else:\n",
    "    print(\"Un asteroide entró a la atmosfera pero no se podra ver.\")\n",
    "# --------------------------------------------------------------------------------------------------\n",
    "# --------------------------------------------------------------------------------------------------\n",
    "# Tamaño del asteroide\n",
    "\n",
    "#   Mi interpretacion del ejercicio\n",
    "tamañoAsteroide = 5\n",
    "velocidadDelAteroide = 20\n",
    "\n",
    "if tamañoAsteroide < 25:\n",
    "    print(\"¡No hay peligro de asteroide, sigue con tu dia!\")\n",
    "elif tamañoAsteroide >= 25 and tamañoAsteroide < 1000:\n",
    "    if  velocidadDelAteroide >= 20 and velocidadDelAteroide < 26:\n",
    "        print(\"¡Peligro de asteroide, he pero las luces no faltaron!\")\n",
    "    if  velocidadDelAteroide >= 20 and velocidadDelAteroide > 25:\n",
    "        print(\"¡Peligro de asteroide, mejor busca un muy buen refugio!\")\n",
    "else:\n",
    "    print(\"¿Y si es de mas de 1000mts? ¿Se destruye la tierra?\")\n",
    "\n",
    "\n",
    "#   Solución dada\n",
    "if velocidadDelAteroide > 25 and tamañoAsteroide > 25:\n",
    "    print(\"¡Alerta, un asteroide muy peligroso viene hacia la tierra!\")\n",
    "elif velocidadDelAteroide >= 20:\n",
    "    print(\"Look up! ¡Hay una luz magica en el cielo!\")\n",
    "elif velocidadDelAteroide < 25:\n",
    "    print(\"Nada quer ver aqui :)\")\n",
    "else:\n",
    "    print(\"Nada quer ver aqui :)\")\n",
    "\n",
    "\n",
    "# --------------------------------------------------------------------------------------------------\n",
    "\n",
    "\n",
    "\n",
    "\n"
   ]
  }
 ],
 "metadata": {
  "interpreter": {
   "hash": "50c2a5a1a885c24c6de32af214cf0b81f5185693406bb64d658a21602c831da5"
  },
  "kernelspec": {
   "display_name": "Python 3.10.2 64-bit",
   "language": "python",
   "name": "python3"
  },
  "language_info": {
   "codemirror_mode": {
    "name": "ipython",
    "version": 3
   },
   "file_extension": ".py",
   "mimetype": "text/x-python",
   "name": "python",
   "nbconvert_exporter": "python",
   "pygments_lexer": "ipython3",
   "version": "3.10.2"
  },
  "orig_nbformat": 4
 },
 "nbformat": 4,
 "nbformat_minor": 2
}
