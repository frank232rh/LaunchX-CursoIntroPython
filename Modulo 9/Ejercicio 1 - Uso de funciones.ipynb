{
 "cells": [
  {
   "cell_type": "markdown",
   "metadata": {},
   "source": [
    "Uso de funciones"
   ]
  },
  {
   "cell_type": "code",
   "execution_count": 16,
   "metadata": {},
   "outputs": [
    {
     "name": "stdout",
     "output_type": "stream",
     "text": [
      "Combustible en el tanque 1: 5 lts,Combustible en el tanque 2: 10 lts,Combustible en el tanque 3: 15 lts \n",
      "arroja un promedio de combustible de 10.0\n"
     ]
    }
   ],
   "source": [
    "def informeCombustible(tanque1, tanque2, tanque3):\n",
    "    informe = f\"\"\"Combustible en el tanque 1: {tanque1} lts,Combustible en el tanque 2: {tanque2} lts,Combustible en el tanque 3: {tanque3} lts\"\"\"\n",
    "    promedio = promedioCombustible(tanque1, tanque2, tanque3)\n",
    "    result = {'info' : informe, 'promedio' : promedio}\n",
    "    return result\n",
    "def promedioCombustible(cant1, cant2, cant3):\n",
    "    promedio = (cant1 + cant2 + cant3) / 3\n",
    "    return promedio\n",
    "\n",
    "resultInfo = informeCombustible(5,10,15)\n",
    "reporte = f\"\"\"{resultInfo['info']} \n",
    "arroja un promedio de combustible de {resultInfo['promedio']}\"\"\"\n",
    "print(reporte)"
   ]
  }
 ],
 "metadata": {
  "interpreter": {
   "hash": "50c2a5a1a885c24c6de32af214cf0b81f5185693406bb64d658a21602c831da5"
  },
  "kernelspec": {
   "display_name": "Python 3.10.2 64-bit",
   "language": "python",
   "name": "python3"
  },
  "language_info": {
   "codemirror_mode": {
    "name": "ipython",
    "version": 3
   },
   "file_extension": ".py",
   "mimetype": "text/x-python",
   "name": "python",
   "nbconvert_exporter": "python",
   "pygments_lexer": "ipython3",
   "version": "3.10.2"
  },
  "orig_nbformat": 4
 },
 "nbformat": 4,
 "nbformat_minor": 2
}
