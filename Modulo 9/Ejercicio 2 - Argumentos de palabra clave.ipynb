{
 "cells": [
  {
   "cell_type": "markdown",
   "metadata": {},
   "source": [
    "Trabajo con argumentos de palabra clave"
   ]
  },
  {
   "cell_type": "code",
   "execution_count": 18,
   "metadata": {},
   "outputs": [
    {
     "name": "stdout",
     "output_type": "stream",
     "text": [
      "\n",
      "    Mision a: Luna\n",
      "    Hora de pre-lanzamiento: 10:00 am\n",
      "    Tiempo de vuelo: 3 horas\n",
      "    Cantidad de combustible en tanque externo: 500 lts.\n",
      "    Cantidad de combustible en tanque interno: 500 lts.\n",
      "    \n",
      "\n",
      "    Mision a: Marte\n",
      "    Tiempo de vuelo: 100\n",
      "    Cantidad de combustible total: 10000 lts.\n",
      "    Tanque: externo, Capacidad: 5000\n",
      "Tanque: interno, Capacidad: 5000\n",
      "\n"
     ]
    }
   ],
   "source": [
    "def informe(horaPrelanzamiento, tiempoVuelo, destino, tanqueExt, tanqueInt):\n",
    "    info = f\"\"\"\n",
    "    Mision a: {destino}\n",
    "    Hora de pre-lanzamiento: {horaPrelanzamiento}\n",
    "    Tiempo de vuelo: {tiempoVuelo}\n",
    "    Cantidad de combustible en tanque externo: {tanqueExt} lts.\n",
    "    Cantidad de combustible en tanque interno: {tanqueInt} lts.\n",
    "    \"\"\"\n",
    "\n",
    "    return info\n",
    "\n",
    "def informeModificado(destino, *minutos, **reservaCombustible):\n",
    "    preInfo = f\"\"\"\n",
    "    Mision a: {destino}\n",
    "    Tiempo de vuelo: {sum(minutos)}\n",
    "    Cantidad de combustible total: {sum(reservaCombustible.values())} lts.\n",
    "    \"\"\"\n",
    "    tanquesInfo = ''\n",
    "\n",
    "    for tanque in reservaCombustible.keys():\n",
    "        tanquesInfo += f'Tanque: {tanque}, Capacidad: {reservaCombustible[tanque]}\\n'\n",
    "\n",
    "    info = f'{preInfo}{tanquesInfo}'\n",
    "\n",
    "    return info\n",
    "\n",
    "print(informe('10:00 am', '3 horas', 'Luna', 500, 500))\n",
    "print(informeModificado('Marte', 50,30,20, externo=5000, interno=5000))"
   ]
  }
 ],
 "metadata": {
  "interpreter": {
   "hash": "50c2a5a1a885c24c6de32af214cf0b81f5185693406bb64d658a21602c831da5"
  },
  "kernelspec": {
   "display_name": "Python 3.10.2 64-bit",
   "language": "python",
   "name": "python3"
  },
  "language_info": {
   "codemirror_mode": {
    "name": "ipython",
    "version": 3
   },
   "file_extension": ".py",
   "mimetype": "text/x-python",
   "name": "python",
   "nbconvert_exporter": "python",
   "pygments_lexer": "ipython3",
   "version": "3.10.2"
  },
  "orig_nbformat": 4
 },
 "nbformat": 4,
 "nbformat_minor": 2
}
