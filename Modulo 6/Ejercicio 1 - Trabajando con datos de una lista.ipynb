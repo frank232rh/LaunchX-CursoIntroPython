{
 "cells": [
  {
   "cell_type": "markdown",
   "metadata": {},
   "source": [
    "Trabajando con datos de una lista"
   ]
  },
  {
   "cell_type": "code",
   "execution_count": 5,
   "metadata": {},
   "outputs": [
    {
     "name": "stdout",
     "output_type": "stream",
     "text": [
      "Index del planeta ingresado: 4\n",
      "Planetas antes que el planeta ingresado: ['Mercurio', 'Venus', 'Tierra', 'Marte']\n",
      "Planetas despues que el planeta ingresado: ['Saturno', 'Urano', 'Neptuno']\n"
     ]
    }
   ],
   "source": [
    "planets = ['Mercurio', 'Venus', 'Tierra', 'Marte', 'Jupiter', 'Saturno', 'Urano', 'Neptuno']\n",
    "\n",
    "inputNombrePlaneta = input(\"Ingrese en nombre de un planeta con la primera letra en mayúsculas\")\n",
    "\n",
    "planetIndex = planets.index(inputNombrePlaneta)\n",
    "totalPlanets = len(planets)\n",
    "\n",
    "print(\"Index del planeta ingresado:\",planetIndex)\n",
    "planetsBeforeEarth = planets[0:planetIndex]\n",
    "planetsAfterEarth = planets[planetIndex + 1: totalPlanets]\n",
    "print(\"Planetas antes que el planeta ingresado:\", planetsBeforeEarth)\n",
    "print(\"Planetas despues que el planeta ingresado:\", planetsAfterEarth)"
   ]
  }
 ],
 "metadata": {
  "interpreter": {
   "hash": "50c2a5a1a885c24c6de32af214cf0b81f5185693406bb64d658a21602c831da5"
  },
  "kernelspec": {
   "display_name": "Python 3.10.2 64-bit",
   "language": "python",
   "name": "python3"
  },
  "language_info": {
   "codemirror_mode": {
    "name": "ipython",
    "version": 3
   },
   "file_extension": ".py",
   "mimetype": "text/x-python",
   "name": "python",
   "nbconvert_exporter": "python",
   "pygments_lexer": "ipython3",
   "version": "3.10.2"
  },
  "orig_nbformat": 4
 },
 "nbformat": 4,
 "nbformat_minor": 2
}
